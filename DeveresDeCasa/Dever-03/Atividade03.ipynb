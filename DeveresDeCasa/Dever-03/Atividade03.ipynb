{
  "nbformat": 4,
  "nbformat_minor": 0,
  "metadata": {
    "colab": {
      "provenance": []
    },
    "kernelspec": {
      "name": "python3",
      "display_name": "Python 3"
    },
    "language_info": {
      "name": "python"
    }
  },
  "cells": [
    {
      "cell_type": "markdown",
      "source": [
        "# Nova seção"
      ],
      "metadata": {
        "id": "f8JYm3ib3ELf"
      }
    },
    {
      "cell_type": "code",
      "source": [
        "import csv\n",
        "\n",
        "# Dados a serem escritos\n",
        "dados = [\n",
        "    [\"Nome\", \"Idade\"],\n",
        "    [\"Ana\", 25],\n",
        "    [\"Bruno\", 30],\n",
        "    [\"Carla\", 22],\n",
        "    [\"Daniel\", 28],\n",
        "    [\"Eduardo\", 35]\n",
        "]\n",
        "\n",
        "# Criando o arquivo CSV\n",
        "with open(\"dados.csv\", \"w\", newline=\"\", encoding=\"utf-8\") as arquivo:\n",
        "    escritor = csv.writer(arquivo)\n",
        "    escritor.writerows(dados)\n",
        "\n",
        "# Ler o arquivo CSV e armazenar os dados em uma lista\n",
        "dados_lista = []\n",
        "with open(\"dados.csv\", \"r\", newline=\"\", encoding=\"utf-8\") as arquivo:\n",
        "    leitor = csv.reader(arquivo)\n",
        "    next(leitor)  # Pular o cabeçalho\n",
        "    for linha in leitor:\n",
        "        nome, idade = linha\n",
        "        dados_lista.append((nome, int(idade)))\n",
        "\n",
        "# Solicitar nome ao usuário\n",
        "nome_digitado = input(\"Digite um nome: \")\n",
        "\n",
        "# Verificar se o nome está na lista\n",
        "nomes = {nome: idade for nome, idade in dados_lista}\n",
        "if nome_digitado in nomes:\n",
        "    idade_digitada = nomes[nome_digitado]\n",
        "    idade_maxima = max(nomes.values())\n",
        "    if idade_digitada == idade_maxima:\n",
        "        print(f\"{nome_digitado} tem {idade_digitada} anos, é a pessoa mais velha da lista.\")\n",
        "    else:\n",
        "        print(f\"{nome_digitado} tem {idade_digitada} anos, não é a pessoa mais velha da lista.\")\n",
        "else:\n",
        "    print(\"Nome não encontrado.\")\n"
      ],
      "metadata": {
        "colab": {
          "base_uri": "https://localhost:8080/"
        },
        "id": "YNgY58o58UVF",
        "outputId": "83e638d4-eb08-46a1-b9f4-5fe71e8b1e75"
      },
      "execution_count": 2,
      "outputs": [
        {
          "output_type": "stream",
          "name": "stdout",
          "text": [
            "Digite um nome: Ana\n",
            "Ana tem 25 anos, não é a pessoa mais velha da lista.\n"
          ]
        }
      ]
    }
  ]
}