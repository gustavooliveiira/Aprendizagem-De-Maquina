{
  "nbformat": 4,
  "nbformat_minor": 0,
  "metadata": {
    "colab": {
      "provenance": []
    },
    "kernelspec": {
      "name": "python3",
      "display_name": "Python 3"
    },
    "language_info": {
      "name": "python"
    }
  },
  "cells": [
    {
      "cell_type": "code",
      "execution_count": 1,
      "metadata": {
        "id": "Cx6oR4sh28jf",
        "colab": {
          "base_uri": "https://localhost:8080/"
        },
        "outputId": "d8156b1f-9f3e-4d03-a2bc-1038677a16ec"
      },
      "outputs": [
        {
          "output_type": "stream",
          "name": "stdout",
          "text": [
            "Digite uma frase: uma frase\n",
            "\n",
            "===== Análise da Frase =====\n",
            "Total de caracteres: 9\n",
            "Total de palavras: 2\n",
            "Maior palavra: frase\n",
            "Frase invertida por caracteres: esarf amu\n",
            "Frase invertida por palavras: frase uma\n",
            "Frase em maiúsculas: UMA FRASE\n",
            "Frase em minúsculas: uma frase\n",
            "Tupla de palavras: ('uma', 'frase')\n"
          ]
        }
      ],
      "source": [
        "def solicitar_frase():\n",
        "    while True:\n",
        "        frase = input(\"Digite uma frase: \").strip()\n",
        "        if frase:\n",
        "            return frase\n",
        "        print(\"Erro: A entrada não pode estar vazia. Tente novamente.\")\n",
        "\n",
        "def analisar_frase(frase):\n",
        "    num_caracteres = len(frase)  # Contagem de caracteres (inclui espaços)\n",
        "    palavras = frase.split()  # Divide a frase em palavras\n",
        "    num_palavras = len(palavras)  # Contagem de palavras\n",
        "    maior_palavra = max(palavras, key=len) if palavras else \"\"  # Encontra a maior palavra\n",
        "\n",
        "    return num_caracteres, num_palavras, maior_palavra, palavras\n",
        "\n",
        "def manipular_frase(frase, palavras):\n",
        "    frase_invertida_caracteres = frase[::-1]  # Inverter por caracteres\n",
        "    frase_invertida_palavras = \" \".join(reversed(palavras))  # Inverter por palavras\n",
        "    frase_maiuscula = frase.upper()  # Converter para maiúsculas\n",
        "    frase_minuscula = frase.lower()  # Converter para minúsculas\n",
        "    tupla_palavras = tuple(palavras)  # Criar uma tupla com as palavras\n",
        "\n",
        "    return (frase_invertida_caracteres, frase_invertida_palavras,\n",
        "            frase_maiuscula, frase_minuscula, tupla_palavras)\n",
        "\n",
        "def exibir_resultados(num_caracteres, num_palavras, maior_palavra,\n",
        "                      frase_inv_chars, frase_inv_words, frase_upper,\n",
        "                      frase_lower, tupla_palavras):\n",
        "    print(\"\\n===== Análise da Frase =====\")\n",
        "    print(f\"Total de caracteres: {num_caracteres}\")\n",
        "    print(f\"Total de palavras: {num_palavras}\")\n",
        "    print(f\"Maior palavra: {maior_palavra}\")\n",
        "    print(f\"Frase invertida por caracteres: {frase_inv_chars}\")\n",
        "    print(f\"Frase invertida por palavras: {frase_inv_words}\")\n",
        "    print(f\"Frase em maiúsculas: {frase_upper}\")\n",
        "    print(f\"Frase em minúsculas: {frase_lower}\")\n",
        "    print(f\"Tupla de palavras: {tupla_palavras}\")\n",
        "\n",
        "# Fluxo principal do programa\n",
        "frase_usuario = solicitar_frase()\n",
        "num_caracteres, num_palavras, maior_palavra, palavras = analisar_frase(frase_usuario)\n",
        "(frase_inv_chars, frase_inv_words, frase_upper, frase_lower, tupla_palavras) = manipular_frase(frase_usuario, palavras)\n",
        "\n",
        "# Exibir os resultados formatados\n",
        "exibir_resultados(num_caracteres, num_palavras, maior_palavra,\n",
        "                  frase_inv_chars, frase_inv_words, frase_upper,\n",
        "                  frase_lower, tupla_palavras)\n"
      ]
    },
    {
      "cell_type": "markdown",
      "source": [
        "# Nova seção"
      ],
      "metadata": {
        "id": "f8JYm3ib3ELf"
      }
    }
  ]
}